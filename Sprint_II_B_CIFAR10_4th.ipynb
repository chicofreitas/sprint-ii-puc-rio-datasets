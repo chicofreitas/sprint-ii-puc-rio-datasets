{
  "nbformat": 4,
  "nbformat_minor": 0,
  "metadata": {
    "colab": {
      "provenance": [],
      "toc_visible": true,
      "authorship_tag": "ABX9TyOzK4zegoKEbQ/SXEZPauo9"
    },
    "kernelspec": {
      "name": "python3",
      "display_name": "Python 3"
    },
    "language_info": {
      "name": "python"
    }
  },
  "cells": [
    {
      "cell_type": "markdown",
      "source": [
        "# Sprint II B - MACHINE LEARNING & ANALYTICS\n",
        "## Data Science & Analytics - PUC Rio\n",
        "\n",
        "### Francisco das Chagas Alves Freitas\n",
        "Jul, 23. 2023 Teresina, PI"
      ],
      "metadata": {
        "id": "vVQSrN6BxlaX"
      }
    },
    {
      "cell_type": "markdown",
      "source": [
        "# 1 Descrição do Problema\n",
        "O problema de classificação utilizando o dataset CIFAR-10 consiste em categorizar imagens em dez classes distintas: avião, carro, pássaro, gato, veado, cachorro, sapo, cavalo, navio e caminhão.\n",
        "\n",
        "O CIFAR-10 é composto por um conjunto de 60.000 imagens coloridas de dimensão 32x32 pixels, divididas igualmente entre as classes, sendo 50.000 imagens para treinamento e 10.000 para teste. Esse dataset é amplamente utilizado na área de visão computacional e aprendizado de máquina, permitindo a avaliação de algoritmos de classificação em um cenário desafiador, devido ao seu tamanho relativamente pequeno e às imagens de baixa resolução, o que requer a extração de características discriminativas para uma correta categorização.\n",
        "\n",
        "O objetivo do problema é desenvolver um modelo de classificação capaz de atribuir corretamente as categorias às imagens de teste com a maior precisão possível."
      ],
      "metadata": {
        "id": "QNLTVBFvx-9i"
      }
    },
    {
      "cell_type": "markdown",
      "source": [
        "Para facilitar o acesso e manipulação dos dados, a base de dados CIFAR10 é carregada utilizando a função cifar10.load_data() e, em seguida, os dados são pré-processados normalizando as intensidades dos pixels para o intervalo entre 0 e 1.\n",
        "\n",
        "Mais detalhes em https://keras.io/api/datasets/cifar10/."
      ],
      "metadata": {
        "id": "JiLUYHgVL7NR"
      }
    },
    {
      "cell_type": "markdown",
      "source": [
        "# 2 Preparação dos Dados\n"
      ],
      "metadata": {
        "id": "MkXLDMlGyPTE"
      }
    },
    {
      "cell_type": "code",
      "source": [
        "# Importanção das bibliotecas necessárias para a execução deste notebook.\n",
        "\n",
        "import numpy as np\n",
        "import pandas as pd\n",
        "import tensorflow as tf\n",
        "from tensorflow import keras\n",
        "from tensorflow.keras import layers\n",
        "from tensorflow.keras.datasets import cifar10 # Realiza a importação das 60.000 imagens do CIFAR10.\n",
        "\n",
        "from tensorflow.keras.preprocessing.image import ImageDataGenerator\n",
        "\n",
        "from keras import utils\n",
        "\n",
        "import sklearn.metrics as skm\n",
        "\n",
        "from sklearn.metrics import confusion_matrix, classification_report\n",
        "\n",
        "import itertools\n",
        "\n",
        "from datetime import datetime\n",
        "\n",
        "import matplotlib.pyplot as plt # inicialmente para plotar a matriz de confusão.\n"
      ],
      "metadata": {
        "id": "NG4ehPIcME5R"
      },
      "execution_count": null,
      "outputs": []
    },
    {
      "cell_type": "markdown",
      "source": [
        "## 1.1 Funções Helpers\n",
        "\n",
        "Abaixo é definida a função plot_confusion_matrix() paga gerar uma **Matriz de Confusão**.\n",
        "\n",
        "Com base na matriz de confusão, é possível calcular várias métricas de desempenho, como a **precisão**, a sensibilidade (recall), a especificidade e a **taxa de acerto (accuracy)**, entre outras, para avaliar a performance do modelo e ajustá-lo, se necessário. Essas métricas fornecem insights sobre o quão bem o modelo está realizando a tarefa de classificação."
      ],
      "metadata": {
        "id": "epz6ZU4kVfsd"
      }
    },
    {
      "cell_type": "code",
      "source": [
        "def plot_confusion_matrix(cm, classes,\n",
        "                          normalize=False,\n",
        "                          title='Confusion matrix',\n",
        "                          cmap=plt.cm.Blues):\n",
        "    \"\"\"\n",
        "    Esta função imprime e plota a matriz de confusão.\n",
        "    A normalização pode ser aplicada definindo `normalize=True`.\n",
        "    \"\"\"\n",
        "    if normalize:\n",
        "        cm = cm.astype('float') / cm.sum(axis=1)[:, np.newaxis]\n",
        "        print(\"Matriz de confusão normalizada\")\n",
        "    else:\n",
        "        print('Matriz de confusão sem normalização')\n",
        "\n",
        "    plt.imshow(cm, interpolation='nearest', cmap=cmap)\n",
        "    plt.title(title)\n",
        "    plt.colorbar()\n",
        "    tick_marks = np.arange(len(classes))\n",
        "    plt.xticks(tick_marks, classes, rotation=45)\n",
        "    plt.yticks(tick_marks, classes)\n",
        "\n",
        "    fmt = '.2f' if normalize else 'd'\n",
        "    thresh = cm.max() / 2.\n",
        "    for i, j in itertools.product(range(cm.shape[0]), range(cm.shape[1])):\n",
        "        plt.text(j, i, format(cm[i, j], fmt),\n",
        "                 horizontalalignment=\"center\",\n",
        "                 color=\"white\" if cm[i, j] > thresh else \"black\")\n",
        "\n",
        "    plt.tight_layout()\n",
        "    plt.ylabel('Label real')\n",
        "    plt.xlabel('Label predito')"
      ],
      "metadata": {
        "id": "o_u4ro0zVdVi"
      },
      "execution_count": null,
      "outputs": []
    },
    {
      "cell_type": "markdown",
      "source": [
        "## 1.2 Carregamento dos Dados\n",
        "\n",
        "Como citado anteriormente, neste projeto será utilizada a base de dados CIFAR10 fornecida pelo [Keras](https://keras.io/). Abaixo é realizado o download do dataset em duas Tuplas, cada uma com um par de Arrays representando as matrizes das imagens. Segue a descrição detalhada de cada array:\n",
        "\n",
        "**x_train:** uint8 matriz NumPy de dados de imagem em tons de cinza com formas (50000, 32, 32, 3), contendo os dados de treinamento. Os valores de pixel variam de 0 a 255.\n",
        "\n",
        "**y_train:** uint8 matriz NumPy de rótulos (inteiros no intervalo de 0 a 9) com formato (50000, 1) para os dados de treinamento.\n",
        "\n",
        "**x_test:** uint8 Matriz NumPy de dados de imagem em tons de cinza com formas (10000, 32, 32, 3), contendo os dados de teste. Os valores de pixel variam de 0 a 255.\n",
        "\n",
        "**y_test:** uint8 Matriz NumPy de rótulos (inteiros no intervalo de 0 a 9) com forma (10000, 1) para os dados de teste."
      ],
      "metadata": {
        "id": "54aQSNlqgc1k"
      }
    },
    {
      "cell_type": "code",
      "source": [
        "# Carregar a base de dados CIFAR10\n",
        "(x_train, y_train), (x_test, y_test) = cifar10.load_data()"
      ],
      "metadata": {
        "id": "Jg38rXjRVMnf"
      },
      "execution_count": null,
      "outputs": []
    },
    {
      "cell_type": "code",
      "source": [
        "print('Shape do x_train: {}'.format(x_train.shape))\n",
        "print('Shape do x_test: {}'.format(x_test.shape))\n",
        "print('Shape do y_train: {}'.format(y_train.shape))\n",
        "print('Shape do y_test: {}'.format(y_test.shape))"
      ],
      "metadata": {
        "id": "uCSuUVGtOpnP"
      },
      "execution_count": null,
      "outputs": []
    },
    {
      "cell_type": "markdown",
      "source": [
        "## 1.3 Configuração de Parâmetros\n",
        "\n",
        "Abaixo, são configurados alguns parâmetros relacionados ao datasete CIFAR10 a serem utilizados nas epatas seguintes."
      ],
      "metadata": {
        "id": "qasaXyzfmut4"
      }
    },
    {
      "cell_type": "code",
      "source": [
        "# Definação do tamanho do batch e as dimensões das imagens\n",
        "batch_size = 32\n",
        "img_height = 32 # altura das imagens no CIFAR10\n",
        "img_width = 32 # largura das imagens no CIFAR10\n",
        "num_classes = 10 # imagens distribuídas em 10 classes."
      ],
      "metadata": {
        "id": "uu_tkLzRVy-2"
      },
      "execution_count": null,
      "outputs": []
    },
    {
      "cell_type": "markdown",
      "source": [
        "## 1.4 Pré-Processamento\n",
        "\n",
        "Primeiro vamos realizar a Normalização das imagens. Nesse método, os valores dos pixels da imagem são ajustados para estarem no intervalo [0, 1], dividindo cada valor pelo valor máximo possível de um pixel (255, no caso de uma imagem em escala de cinza ou com 8 bits por canal). Isso permite que os valores dos pixels sejam representados como frações entre 0 e 1, tornando o treinamento de algoritmos mais estável e acelerando a convergência.\n",
        "\n",
        "Em seguida o método **One Hot Encoding**. O método consiste em transformar, a princípio, uma variável categórica em um vetor binário, onde cada categoria é representada por uma única dimensão. Neste projeto, os valores assumirão valores entre 0 e 9, representando cada categoria de imagem."
      ],
      "metadata": {
        "id": "NB2QVuEwWKYc"
      }
    },
    {
      "cell_type": "code",
      "source": [
        "# Pré-processamento dos dados\n",
        "\n",
        "# Normalização\n",
        "x_train = x_train.astype(\"float32\") / 255.0\n",
        "x_test = x_test.astype(\"float32\") / 255.0\n",
        "\n",
        "# hot encoding\n",
        "y_train_cat = utils.to_categorical(y_train, num_classes)\n",
        "y_test_cat = utils.to_categorical(y_test, num_classes)"
      ],
      "metadata": {
        "id": "UbXEQK94VU37"
      },
      "execution_count": null,
      "outputs": []
    },
    {
      "cell_type": "markdown",
      "source": [
        "## 1.5 Data Augmentation\n",
        "\n",
        "Essa abordagem tem como objetivo aumentar a quantidade e diversidade dos dados de treinamento, melhorando a capacidade do modelo de generalizar e lidar com variações presentes nos dados reais.\n",
        "\n",
        "Diferentemente dos exemplos apresentados em sala de aula, o código para a geração de imagens utiliza a função **flow()** no lugar de **flow_from_directory()**.\n",
        "\n",
        "A documentação da flow() pode ser encontrada em: https://www.tensorflow.org/api_docs/python/tf/keras/preprocessing/image/ImageDataGenerator"
      ],
      "metadata": {
        "id": "kJn-GMtFj31l"
      }
    },
    {
      "cell_type": "code",
      "source": [
        "datagen = ImageDataGenerator(\n",
        "    featurewise_center=True,\n",
        "    featurewise_std_normalization=True,\n",
        "    rotation_range=20,\n",
        "    width_shift_range=0.2,\n",
        "    height_shift_range=0.2,\n",
        "    horizontal_flip=True,\n",
        "    validation_split=0.2)\n",
        "\n",
        "train_generator = datagen.flow(x_train, y_train_he, batch_size=32, subset='training')\n",
        "\n",
        "val_generator  = datagen.flow(x_train, y_train_he, batch_size=8, subset='validation')\n",
        "\n",
        "# compute quantities required for featurewise normalization\n",
        "# (std, mean, and principal components if ZCA whitening is applied)\n",
        "datagen.fit(x_train)\n"
      ],
      "metadata": {
        "id": "YYj4USR6kCKT"
      },
      "execution_count": null,
      "outputs": []
    },
    {
      "cell_type": "markdown",
      "source": [
        "# 3 Modelagem e Treinamento\n"
      ],
      "metadata": {
        "id": "8jiKGjQ2yo81"
      }
    },
    {
      "cell_type": "markdown",
      "source": [
        "## 3.1 Criando Instância do Modelo\n",
        "\n",
        "Em seguida, um modelo de rede neural convolucional é definido usando a API Sequencial do Keras. Esse modelo consiste em **camadas convolucionais**, duas camadas de **Pooling**, duas de **Dropout** e uma camada **Flatten** para transformar a saída em um vetor unidimensional e uma camada densa final com ativação **Softmax** para realizar a classificação em 10 classes (correspondentes às 10 categorias do CIFAR10)."
      ],
      "metadata": {
        "id": "r7iY-Sonhaxh"
      }
    },
    {
      "cell_type": "code",
      "source": [
        "# Definir o modelo 3 de rede neural\n",
        "model = keras.Sequential(\n",
        "    [\n",
        "      keras.Input(shape=(32, 32, 3)),\n",
        "      layers.Conv2D(filters=32,kernel_size=(4,4),input_shape=(32,32,3),activation='relu'),\n",
        "      layers.MaxPool2D(pool_size=(2,2)),\n",
        "      layers.Dropout(0.25), # Drop 25% of the units from the layer.\n",
        "\n",
        "      layers.Conv2D(filters=32,kernel_size=(4,4),input_shape=(32,32,3),activation='relu'),\n",
        "      layers.MaxPool2D(pool_size=(2,2)),\n",
        "      layers.Dropout(0.25),\n",
        "\n",
        "      layers.Flatten(),\n",
        "\n",
        "      layers.Dense(256,activation='relu'),\n",
        "      layers.Dense(10,activation='softmax'),\n",
        "  ]\n",
        ")"
      ],
      "metadata": {
        "id": "ft2NnHkpC-wr"
      },
      "execution_count": null,
      "outputs": []
    },
    {
      "cell_type": "markdown",
      "source": [
        "O modelo é compilado com a função de perda **categorical_crossentropy**, o otimizador **ADAM** e a *métrica de acurácia*."
      ],
      "metadata": {
        "id": "mOXTpgNciA4L"
      }
    },
    {
      "cell_type": "code",
      "source": [
        "# Compilar o modelo\n",
        "model.compile(loss=\"categorical_crossentropy\", optimizer=\"adam\", metrics=[\"accuracy\"])"
      ],
      "metadata": {
        "id": "NDLXdxR6Vk3-"
      },
      "execution_count": null,
      "outputs": []
    },
    {
      "cell_type": "markdown",
      "source": [
        "## 3.2 Resumo do Modelo Compilado"
      ],
      "metadata": {
        "id": "U4bD763ciJpB"
      }
    },
    {
      "cell_type": "code",
      "source": [
        "model.summary()"
      ],
      "metadata": {
        "id": "Va9ZLISPTu65"
      },
      "execution_count": null,
      "outputs": []
    },
    {
      "cell_type": "markdown",
      "source": [
        "## 3.3 Treino do Modelo\n",
        "\n",
        "Após compilar o modelo, ele é treinado usando o método **fit()**. Nesse exemplo, são realizadas **20 épocas** de treinamento com 10% dos dados de treinamento (10.000 imagens de 32x32) são usados como conjunto de validação.\n",
        "\n",
        "NOTA: não foi necessário a utilização do parãmetro **batch_size**."
      ],
      "metadata": {
        "id": "GRSFffQgilAG"
      }
    },
    {
      "cell_type": "code",
      "source": [
        "# Pré treino do modelo\n",
        "epochs=20\n",
        "\n",
        "# Treinar o modelo\n",
        "#model.fit(x_train, y_train, batch_size=64, epochs=epochs, validation_split=0.1)\n",
        "\n",
        "# Treinar o modelo. Nota: o modelo acime é um exemplo do professor.\n",
        "history = model.fit(x_train, y_train_cat,\n",
        "          validation_data=(x_test, y_test_cat),\n",
        "          epochs=epochs)"
      ],
      "metadata": {
        "id": "yYJussEiVop6"
      },
      "execution_count": null,
      "outputs": []
    },
    {
      "cell_type": "markdown",
      "source": [
        "# 4 Avaliação de Resultados\n"
      ],
      "metadata": {
        "id": "c3lCpIJ3y4TK"
      }
    },
    {
      "cell_type": "markdown",
      "source": [
        "## 4.1 Verificação da Acurária do Modelo\n",
        "\n",
        "Por fim, o modelo é avaliado no conjunto de teste utilizando o método evaluate() e a acurácia do modelo é impressa logo em seguida.\n",
        "\n",
        "Quando esta estapa foi realizada, os resultados foram os seguintes:\n",
        "\n",
        "- **Loss:** 0.9542;\n",
        "- **Accuracy:** 0.6883 (68,9%)."
      ],
      "metadata": {
        "id": "_oaWQLvYjBg0"
      }
    },
    {
      "cell_type": "code",
      "source": [
        "#y_test.shape\n",
        "# Avaliar o modelo\n",
        "#_, accuracy = model.evaluate(x_test, y_test)\n",
        "#print(\"Acurácia no conjunto de teste:\", accuracy)\n",
        "\n",
        "# Avaliação do modelo com o conjunto de testes\n",
        "test_loss, test_accuracy = model.evaluate(x_test, y_test_cat)\n",
        "print(f'Test accuracy: {test_accuracy}')\n"
      ],
      "metadata": {
        "id": "DJWJUMo4VrGQ"
      },
      "execution_count": null,
      "outputs": []
    },
    {
      "cell_type": "markdown",
      "source": [
        "O método model.fit() retorna um obejto history, contendo informações relevantes sobre o treinamento do modelo e pode ser usado para analisar o desempenho da CNN ao longo das épocas (iterações) de treinamento.\n",
        "\n",
        "As informações obtidas foram plotadas na próxima célula de código utlizando pyplot. Uma breve descrição de cada uma das informações segue abaixo:\n",
        "\n",
        "**Loss** ou Perda: É uma medida do quão bem o modelo está aprendendo durante o treinamento. O objetivo é minimizar essa perda para que o modelo se ajuste aos dados de treinamento.\n",
        "\n",
        "Accuracy ou Precisão: Representa a acurácia do modelo durante o treinamento, ou seja, a proporção de amostras classificadas corretamente em relação ao total.\n",
        "\n",
        "Validation Loss ou Perda de Validação: É a perda calculada usando um conjunto de dados de validação separado, que não foi usado no treinamento. Ajuda a monitorar se o modelo está sofrendo de **overfitting**.\n",
        "\n",
        "Validation Accuracy ou Precisão de Validação: Representa a acurácia do modelo em relação aos dados de validação."
      ],
      "metadata": {
        "id": "cypCVWWer048"
      }
    },
    {
      "cell_type": "code",
      "source": [
        "pd.DataFrame(history.history).plot()"
      ],
      "metadata": {
        "colab": {
          "base_uri": "https://localhost:8080/",
          "height": 448
        },
        "id": "rbE8TExr84g6",
        "outputId": "863348b4-2e96-44a9-8441-376083dfdcdf"
      },
      "execution_count": null,
      "outputs": [
        {
          "output_type": "execute_result",
          "data": {
            "text/plain": [
              "<Axes: >"
            ]
          },
          "metadata": {},
          "execution_count": 11
        },
        {
          "output_type": "display_data",
          "data": {
            "text/plain": [
              "<Figure size 640x480 with 1 Axes>"
            ],
            "image/png": "[encoded data removed]"
          },
          "metadata": {}
        }
      ]
    },
    {
      "cell_type": "markdown",
      "source": [
        "## 4.2 Execução do Modelo com Visualizações\n",
        "\n",
        "Abaixo deve apresentar as imagens com a label e a respectiva predição com a porcentagem de acorto do modelo.\n",
        "\n",
        "Antes disso o conjunto de testes é normalizado utilizando o mésmo método da seção de pré-processamento. Em seguida, os dados normalizados são utilizados na função model.predict() para realizar as predições com base na base de testes normalizada."
      ],
      "metadata": {
        "id": "0kABt_oDW3PX"
      }
    },
    {
      "cell_type": "code",
      "source": [
        "# Normalizar as imagens\n",
        "x_test_norm = x_test.astype('float32') / 255.0\n",
        "\n",
        "# Obter as previsões do modelo para as imagens de teste\n",
        "predictions = model.predict(x_test_norm)"
      ],
      "metadata": {
        "id": "pmh7V6PDZcwl"
      },
      "execution_count": null,
      "outputs": []
    },
    {
      "cell_type": "code",
      "source": [
        "# Mapear os índices das classes para os rótulos de texto\n",
        "labels = [\n",
        "    'Avião', 'Automóvel', 'Pássaro', 'Gato', 'Cervo',\n",
        "    'Cachorro', 'Sapo', 'Cavalo', 'Navio', 'Caminhão'\n",
        "]"
      ],
      "metadata": {
        "id": "V-hR5fnxbduK"
      },
      "execution_count": null,
      "outputs": []
    },
    {
      "cell_type": "markdown",
      "source": [
        "Na célula de cógigo abaixo são criadas duas listas, uma para os valores preditos dentro da variável predictions e outra com os valores reais encontrados no conjunto de dados.\n",
        "\n",
        "Em seguida, um laço for itera sobre as 10.000 imagens do conjunto de testes e armazena nas listas os valores preditos e os reais. Em adição, as respectivas imagens são exibidas, assim como os valores reais, previstos e probabilidade no título de cada imagem."
      ],
      "metadata": {
        "id": "zhlCwp5k2Dqh"
      }
    },
    {
      "cell_type": "code",
      "source": [
        "y_pred = list()\n",
        "y_true = list()\n",
        "\n",
        "# Visualizar algumas imagens com suas previsões\n",
        "num_images = 10000\n",
        "\n",
        "for i in np.arange(0, num_images):\n",
        "    # Obter a classe real e a previsão do modelo para a imagem\n",
        "    real_class = labels[y_test[i][0]]\n",
        "    predicted_class = labels[np.argmax(predictions[i])]\n",
        "\n",
        "    #y_true.append(real_class)\n",
        "    y_true.append(real_class)\n",
        "    #y_pred.append(predicted_class)\n",
        "    y_pred.append(predicted_class)\n",
        "\n",
        "    probability = predictions[i][np.argmax(predictions[i])]\n",
        "    # Visualizar a imagem\n",
        "    plt.imshow(x_test[i])\n",
        "    plt.title(f'Real: {real_class}, Previsto: {predicted_class}, Probabilidade: {probability}')\n",
        "    plt.axis('off')\n",
        "    plt.show()\n"
      ],
      "metadata": {
        "id": "RYC1R1yU6DWv"
      },
      "execution_count": null,
      "outputs": []
    },
    {
      "cell_type": "markdown",
      "source": [
        "## 4.3 Visualização das Métricas"
      ],
      "metadata": {
        "id": "_QIqtBF4YaYR"
      }
    },
    {
      "cell_type": "markdown",
      "source": [
        "No momento em que executei este notebook, os valores encontrados foram:"
      ],
      "metadata": {
        "id": "Yjf4qbaD3bYz"
      }
    },
    {
      "cell_type": "code",
      "source": [
        "# Calculando as métricas\n",
        "accuracy = skm.accuracy_score(y_true, y_pred)\n",
        "precision = skm.precision_score(y_true, y_pred, average='weighted')\n",
        "recall = skm.recall_score(y_true, y_pred, average='weighted')\n",
        "f1score = skm.f1_score(y_true, y_pred, average='weighted')\n",
        "\n",
        "print(\"Accuracy: \", accuracy)\n",
        "print(\"Precision: \", precision)\n",
        "print(\"Recall: \", recall)\n",
        "print(\"F1 Score: \", f1score)"
      ],
      "metadata": {
        "id": "MLuKaRW95wxU"
      },
      "execution_count": null,
      "outputs": []
    },
    {
      "cell_type": "markdown",
      "source": [
        "## 4.4 Matriz de Confusão\n",
        "\n",
        "Também conhecida como tabela de contingência, é utilziada para avaliar o desempenho de um modelo de classificação. Ela permite visualizar a eficácia de um algoritmo ao comparar suas previsões com as classes reais do conjunto de dados. A matriz de confusão possui dimensões iguais ao número de classes do problema.\n",
        "\n",
        "Na célula de código seguinte, executo a função plot_confusion_matrix() definida na seção 1.1 deste notebook.\n",
        "\n"
      ],
      "metadata": {
        "id": "GV2yFfngYdrW"
      }
    },
    {
      "cell_type": "code",
      "source": [
        "cnf_matrix = confusion_matrix(y_true, y_pred, labels=labels)\n",
        "np.set_printoptions(precision=2)\n",
        "\n",
        "plt.figure()\n",
        "plot_confusion_matrix(cnf_matrix,\n",
        "                      classes=labels,\n",
        "                      normalize= False,\n",
        "                      title='Matriz real x predição')"
      ],
      "metadata": {
        "id": "muah9knJGxD_"
      },
      "execution_count": null,
      "outputs": []
    },
    {
      "cell_type": "markdown",
      "source": [
        "## 4.5"
      ],
      "metadata": {
        "id": "QHD-V3Va4DDi"
      }
    },
    {
      "cell_type": "code",
      "source": [
        "# obtendo a data e hora atual\n",
        "now = datetime.now()\n",
        "\n",
        "# Definição do formato\n",
        "format = '%Y-%m-%dT%H%M'\n",
        "\n",
        "# Converter a data e hora em uma string com o formato especificado\n",
        "formatted_datetime = now.strftime(format)\n",
        "\n",
        "path_model = 'trained_models'\n",
        "\n",
        "name_model = 'cifar10_' + formatted_datetime + '.h5'\n",
        "\n",
        "# salvando o modelo\n",
        "model.save(\"%s/%s\" % (path_model, name_model))\n",
        "print(\"Modelo salvo com o nome: \", name_model)"
      ],
      "metadata": {
        "id": "EfOAcLAQrzyo"
      },
      "execution_count": null,
      "outputs": []
    },
    {
      "cell_type": "markdown",
      "source": [
        "## 4.6 Resultados\n",
        "\n",
        "Como resultado do presente trabalho, o modelo definido na Seção 3 (Modelagem e Treinamento) utilizando as configuração apresentadas, teve o melhor desempenho em relação às tentativas anteriores.\n",
        "\n",
        "O método de Data Augmentation não se mostrou eficaz, aumentando a perda e a perda de validação.\n",
        "\n",
        "A quantidade de *epochs=20* utiliada neste notebook se mostrou a melhor até o momento utilizando as configurações definidas.\n",
        "\n",
        "Como pôde ser observado na Matriz de Confusão, mesmo com uma acurácia de ~68% a diagonal mostra o quão bem o modelo aprendeu a diferenciar as classes na maioria dos casos. Isso pode ser justificado pela ausência de overfitting, caraterizado pelo baixo valor na perda de validação (até o momento desta execução, foi de 0,95).\n",
        "\n",
        "Para conseguir melhores desempenhos, serão necessárias: a adição de mais camadas com diferentes arquiteturas; tentar novamente o método de data augmentation; possivelmente a variação das epochs durante o fit do modelo; etc."
      ],
      "metadata": {
        "id": "YPOqE1VM4VyK"
      }
    }
  ]
}